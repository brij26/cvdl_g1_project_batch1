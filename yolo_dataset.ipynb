{
 "cells": [
  {
   "cell_type": "code",
   "execution_count": null,
   "metadata": {},
   "outputs": [],
   "source": [
    "import os\n",
    "import shutil\n",
    "\n",
    "# Define original paths\n",
    "base_path = \"/kaggle/input/g2-project/output_dataset\"\n",
    "image_dirs = {\n",
    "    \"train\": os.path.join(base_path, \"images/train\"),\n",
    "    \"val\": os.path.join(base_path, \"images/val\"),\n",
    "    \"test\": os.path.join(base_path, \"images/test\"),\n",
    "}\n",
    "label_dirs = {\n",
    "    \"train\": os.path.join(base_path, \"YOLO/labels/train\"),\n",
    "    \"val\": os.path.join(base_path, \"YOLO/labels/val\"),\n",
    "    \"test\": os.path.join(base_path, \"YOLO/labels/test\"),\n",
    "}\n",
    "\n",
    "# Define new YOLO-structured dataset path\n",
    "output_base = \"/kaggle/working/YOLO_dataset\"\n",
    "os.makedirs(output_base, exist_ok=True)\n",
    "\n",
    "for split in [\"train\", \"val\", \"test\"]:\n",
    "    img_output = os.path.join(output_base, split, \"images\")\n",
    "    lbl_output = os.path.join(output_base, split, \"labels\")\n",
    "    \n",
    "    os.makedirs(img_output, exist_ok=True)\n",
    "    os.makedirs(lbl_output, exist_ok=True)\n",
    "\n",
    "    # Move images\n",
    "    for file in os.listdir(image_dirs[split]):\n",
    "        src = os.path.join(image_dirs[split], file)\n",
    "        dst = os.path.join(img_output, file)\n",
    "        shutil.copy2(src, dst)\n",
    "\n",
    "    # Move labels\n",
    "    for file in os.listdir(label_dirs[split]):\n",
    "        src = os.path.join(label_dirs[split], file)\n",
    "        dst = os.path.join(lbl_output, file)\n",
    "        shutil.copy2(src, dst)\n",
    "\n",
    "print(\"Dataset successfully reorganized into:\", output_base)\n"
   ]
  }
 ],
 "metadata": {
  "kernelspec": {
   "display_name": "Python 3",
   "language": "python",
   "name": "python3"
  },
  "language_info": {
   "name": "python",
   "version": "3.10.0"
  }
 },
 "nbformat": 4,
 "nbformat_minor": 2
}
